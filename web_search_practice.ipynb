{
 "cells": [
  {
   "cell_type": "code",
   "execution_count": 38,
   "id": "a5964885",
   "metadata": {},
   "outputs": [],
   "source": [
    "from selenium import webdriver\n",
    "import requests\n",
    "from bs4 import BeautifulSoup\n",
    "import csv"
   ]
  },
  {
   "cell_type": "code",
   "execution_count": 13,
   "id": "4ed88104",
   "metadata": {},
   "outputs": [],
   "source": [
    "chromedriver_path = '/Applications/chromedriver'\n",
    "\n",
    "# Initialize the WebDriver with the specified chromedriver path\n",
    "driver = webdriver.Chrome(executable_path=chromedriver_path)\n"
   ]
  },
  {
   "cell_type": "code",
   "execution_count": 14,
   "id": "cdc74ec2",
   "metadata": {},
   "outputs": [],
   "source": [
    "url = \"https://www.cancer.gov/ccg/research/genome-sequencing/tcga/studied-cancers/hepatocellular-carcinoma-study\"\n",
    "driver.get(url)\n"
   ]
  },
  {
   "cell_type": "code",
   "execution_count": 15,
   "id": "77ad0d26",
   "metadata": {},
   "outputs": [],
   "source": [
    "# Get the HTML content of the page\n",
    "html_content = driver.page_source  # Assign the page source to html_content\n"
   ]
  },
  {
   "cell_type": "code",
   "execution_count": 16,
   "id": "bfee31d7",
   "metadata": {},
   "outputs": [],
   "source": [
    "# Close the WebDriver\n",
    "driver.quit()\n"
   ]
  },
  {
   "cell_type": "code",
   "execution_count": 36,
   "id": "898e3ea9",
   "metadata": {},
   "outputs": [
    {
     "name": "stdout",
     "output_type": "stream",
     "text": [
      "https://www.cancer.gov/Common/PopUps/popDefinition.aspx?id=CDR0000044242&version=Patient&language=English\n",
      "https://www.cancer.gov#r1\n",
      "https://www.cancer.gov/Common/PopUps/popDefinition.aspx?id=CDR0000046312&version=Patient&language=English\n",
      "https://www.cancer.gov#r1\n",
      "https://www.cancer.gov#r2\n"
     ]
    }
   ],
   "source": [
    "# Find all paragraphs that contain the desired text\n",
    "paragraphs = soup.find_all('p')\n",
    "for paragraph in paragraphs:\n",
    "    if \"Hepatocellular carcinoma\" in paragraph.text:\n",
    "        # Extract all links within this paragraph\n",
    "        links = paragraph.find_all('a')\n",
    "        for link in links:\n",
    "            # Print the href attribute of each link\n",
    "            href = link.get('href')\n",
    "            # Check if the href is a relative link or a full URL\n",
    "            if href.startswith('http'):\n",
    "                print(href)\n",
    "            else:\n",
    "                # If it's a relative link, construct the full URL\n",
    "                base_url = 'https://www.cancer.gov'\n",
    "                full_url = base_url + href\n",
    "                print(full_url)"
   ]
  },
  {
   "cell_type": "code",
   "execution_count": 37,
   "id": "8e1784fe",
   "metadata": {},
   "outputs": [
    {
     "name": "stdout",
     "output_type": "stream",
     "text": [
      "\n",
      "Center for Cancer Genomics\n",
      "at the National Cancer Institute\n",
      "              \n",
      "\n"
     ]
    }
   ],
   "source": [
    "# Print the text of the paragraph if found\n",
    "if paragraph:\n",
    "    print(paragraph.get_text())\n",
    "else:\n",
    "    print(\"Paragraph not found\")"
   ]
  },
  {
   "cell_type": "code",
   "execution_count": 40,
   "id": "d2a25995",
   "metadata": {},
   "outputs": [],
   "source": [
    "#Find all `<em>` tags which may contain gene names\n",
    "gene_elements = soup.find_all('em')\n",
    "\n",
    "# Extract gene names\n",
    "gene_names = [em.get_text() for em in gene_elements]\n",
    "\n",
    "# Write the gene names to a CSV file\n",
    "with open('gene_names.csv', 'w', newline='') as csvfile:\n",
    "    writer = csv.writer(csvfile)\n",
    "    for gene_name in gene_names:\n",
    "        writer.writerow([gene_name])  # Write each gene name in its own row"
   ]
  },
  {
   "cell_type": "code",
   "execution_count": null,
   "id": "607a6604",
   "metadata": {},
   "outputs": [],
   "source": []
  }
 ],
 "metadata": {
  "kernelspec": {
   "display_name": "Python 3 (ipykernel)",
   "language": "python",
   "name": "python3"
  },
  "language_info": {
   "codemirror_mode": {
    "name": "ipython",
    "version": 3
   },
   "file_extension": ".py",
   "mimetype": "text/x-python",
   "name": "python",
   "nbconvert_exporter": "python",
   "pygments_lexer": "ipython3",
   "version": "3.9.13"
  }
 },
 "nbformat": 4,
 "nbformat_minor": 5
}
